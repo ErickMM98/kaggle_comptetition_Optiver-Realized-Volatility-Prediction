{
  "nbformat": 4,
  "nbformat_minor": 0,
  "metadata": {
    "colab": {
      "name": "kaggle_comptetition_Optiver-Realized-Volatility-Prediction.ipynb",
      "provenance": [],
      "mount_file_id": "1e-1rCH9anyfLwx6zSj53OEZy9QY3ZXhk",
      "authorship_tag": "ABX9TyOGfEOGY4xj2v6MLp+gKJ9f",
      "include_colab_link": true
    },
    "kernelspec": {
      "name": "python3",
      "display_name": "Python 3"
    },
    "language_info": {
      "name": "python"
    }
  },
  "cells": [
    {
      "cell_type": "markdown",
      "metadata": {
        "id": "view-in-github",
        "colab_type": "text"
      },
      "source": [
        "<a href=\"https://colab.research.google.com/github/ErickMM98/kaggle_comptetition_Optiver-Realized-Volatility-Prediction/blob/main/kaggle_comptetition_Optiver_Realized_Volatility_Prediction.ipynb\" target=\"_parent\"><img src=\"https://colab.research.google.com/assets/colab-badge.svg\" alt=\"Open In Colab\"/></a>"
      ]
    },
    {
      "cell_type": "markdown",
      "metadata": {
        "id": "V6yjRF47R8fB"
      },
      "source": [
        "# Extract all the data. I use the Kaggle API to get more productive."
      ]
    },
    {
      "cell_type": "code",
      "metadata": {
        "id": "9MLL37EkR0t_"
      },
      "source": [
        "!mkdir ~/.kaggle\n",
        "#GUARDAR .json EN ALGUNA CARPETA DE DRIVE\n",
        "!cp /content/drive/MyDrive/TestFolder/kaggle.json ~/.kaggle/kaggle.json\n",
        "!chmod 600 ~/.kaggle/kaggle.json\n",
        "!pip install kaggle\n",
        "\n",
        "!kaggle competitions download -c optiver-realized-volatility-prediction"
      ],
      "execution_count": null,
      "outputs": []
    }
  ]
}